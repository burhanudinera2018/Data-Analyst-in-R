{
 "cells": [
  {
   "cell_type": "markdown",
   "id": "0bf6ab68-d4ee-4b78-bf07-34d39d2a8f7b",
   "metadata": {},
   "source": [
    "# <center>\"Quantium Virtual Internship - Retail Strategy and Analytics - Task 2\"</center>"
   ]
  },
  {
   "cell_type": "markdown",
   "id": "cd67a501-2f76-487d-8147-642439fdd99e",
   "metadata": {},
   "source": [
    "## Setting R Markdown"
   ]
  },
  {
   "cell_type": "raw",
   "id": "2253e667-c696-4d31-ab82-ef56f829c7f2",
   "metadata": {},
   "source": [
    "```{r setup, include=FALSE}\n",
    "# set options for R markdown knitting\n",
    "knitr::opts_chunk$set(echo = TRUE)\n",
    "knitr::opts_chunk$set(linewidth=80)\n",
    "```\n",
    "```{r knitr line wrap setup, include=FALSE}\n",
    "# set up line wrapping in MD knit output\n",
    "library(knitr)\n",
    "hook_output = knit_hooks$get(\"output\")\n",
    "knit_hooks$set(output = function(x, options)\n",
    "{\n",
    " # this hook is used only when the linewidth option is not NULL\n",
    " if (!is.null(n <- options$linewidth))\n",
    " {\n",
    " x = knitr:::split_lines(x)\n",
    " # any lines wider than n should be wrapped\n",
    " if (any(nchar(x) > n))\n",
    " x = strwrap(x, width = n)\n",
    " x = paste(x, collapse = \"\\n\")\n",
    " }\n",
    " hook_output(x, options)\n",
    "})\n",
    "```"
   ]
  },
  {
   "cell_type": "markdown",
   "id": "b9f00edb-4f43-4ca9-8619-ea2033cfac49",
   "metadata": {},
   "source": [
    "# Solution template for Task 2\n",
    "This file is a solution template for the Task 2 of the Quantium Virtual Internship.\n",
    "It will walk you through the analysis, providing the scaffolding for your solution\n",
    "with gaps left for you to fill in yourself.\n",
    "Look for comments that say <code style=\"background:yellow;color:black\">\"over to you\"</code> for places where you need to add your own\n",
    "code!\n",
    "Often, there will be hints about what to do or what function to use in the text\n",
    "leading up to a code block - if you need a bit of extra help on how to use a\n",
    "function, the internet has many excellent resources on R coding, which you can find\n",
    "using your favourite search engine."
   ]
  },
  {
   "cell_type": "markdown",
   "id": "e274283c-9a11-48e5-bad0-b33e18d3bd0e",
   "metadata": {},
   "source": [
    "## Load required libraries and datasets\n",
    "+ Note that you will need to install these libraries if you have never used these\n",
    "before."
   ]
  },
  {
   "cell_type": "raw",
   "id": "7e1013f8-f1ed-4c11-b43b-9d3007d84ba8",
   "metadata": {},
   "source": [
    "```{r 0. Load libraries, include = FALSE}\n",
    "library(data.table)\n",
    "library(ggplot2)\n",
    "library(tidyr)\n",
    "```"
   ]
  },
  {
   "cell_type": "markdown",
   "id": "efee1e74-9a47-4633-a968-0e5d2cb8f917",
   "metadata": {},
   "source": [
    "#### Point the [filePath to where you have downloaded the datasets to and assign the data files to data.tables](http://localhost:8889/notebooks/Study_burhanudin_6%2FR%2FCode-R%2FData_Analyst_in_R%2FTask%20One.ipynb)"
   ]
  },
  {
   "cell_type": "raw",
   "id": "b4559ec0-c8a6-4fb5-a413-694b31249922",
   "metadata": {},
   "source": [
    "```{r 1. Read in data from previous module}\n",
    "# Over to you! Fill in the path to your working directory. If you are on a Windows machine, you will need to use forward slashes (/) instead of back hashes (\\) file Path <- \"\"\n",
    "data <- fread(paste0(\"QVI_data.csv\"))\n",
    "#### Set themes for plots\n",
    "theme_set(theme_bw())\n",
    "theme_update(plot.title = element_text(hjust = 0.5))\n",
    "```"
   ]
  },
  {
   "cell_type": "markdown",
   "id": "c9eb011d-d79d-493d-bc91-3cb45692fee1",
   "metadata": {},
   "source": [
    "## Select control stores\n",
    "The client has selected store numbers 77, 86 and 88 as trial stores and want\n",
    "control stores to be established stores that are operational for the entire\n",
    "observation period.\n",
    "We would want to match trial stores to control stores that are similar to the trial tore prior to the trial period of Feb 2019 in terms of :\n",
    "- Monthly overall sales revenue\n",
    "- Monthly number of customers\n",
    "- Monthly number of transactions per customer\n",
    "Let's first create the metrics of interest and filter to stores that are present\n",
    "throughout the pre-trial period."
   ]
  },
  {
   "cell_type": "raw",
   "id": "1acc0ae3-a788-4ded-bd94-4349866cda8d",
   "metadata": {},
   "source": [
    "```{r Select control stores}\n",
    "#### Calculate these measures over time for each store\n",
    "#### Over to you! Add a new month ID column in the data with the format yyyymm.\n",
    "#monthYear <- format(as.Date(data$DATE, \"%Y%m\"))\n",
    "data[, YEARMONTH := year(DATE)*100 + month(DATE)]\n",
    "#### Next, we define the measure calculations to use during the analysis.\n",
    "# Over to you! For each store and month calculate total sales, number of customers, transactions per customer, chips per customer and the average price per unit.\n",
    "## Hint: you can use uniqueN() to count distinct values in a column\n",
    "measureOverTime <- data[, .(totSales = sum(TOT_SALES),\n",
    "                            nCustomers = uniqueN(LYLTY_CARD_NBR),\n",
    "                            nTxnPerCust = uniqueN(TXN_ID)/uniqueN(LYLTY_CARD_NBR),\n",
    "                            nChipsPerTxn = uniqueN(PROD_QTY)/uniqueN(TXN_ID),\n",
    "                            avgPricePerUnit = sum(TOT_SALES)/ sum(PROD_QTY))\n",
    "                        ,by = c(\"STORE_NBR\",\"YEARMONTH\")][order(STORE_NBR,YEARMONTH)]\n",
    "#### Filter to the pre-trial period and stores with full observation periods\n",
    "storesWithFullObs <- unique(measureOverTime[, .N, \n",
    "                                            STORE_NBR][N == 12, STORE_NBR])\n",
    "preTrialMeasures <- measureOverTime[YEARMONTH < 201902 & STORE_NBR %in%\n",
    "storesWithFullObs, ]\n",
    "```"
   ]
  },
  {
   "cell_type": "markdown",
   "id": "382d5b20-b2be-4959-ba2e-5f60d2af2eee",
   "metadata": {},
   "source": [
    "+ Now we need to work out a way of ranking how similar each potential control \n",
    "store\n",
    "is to the trial store. We can calculate how correlated the performance of each\n",
    "store is to the trial store.\n",
    "Let's write a function for this so that we don't have to calculate this for each\n",
    "trial store and control store pair."
   ]
  },
  {
   "cell_type": "raw",
   "id": "96aa87a1-ca86-4afb-bb61-4ccdf4c75f43",
   "metadata": {},
   "source": [
    "```{r Create function to calculate correlation}\n",
    "#### Create a function to calculate correlation for a measure, looping through each control store.\n",
    "#### Let's define inputTable as a metric table with potential comparison stores, \n",
    "#### metricCol as the store metric used to calculate correlation on, and store Comparison\n",
    "#### as the store number of the trial store.\n",
    "calculateCorrelation <- function(inputTable, metricCol, storeComparison) {\n",
    "  calcCorrTable = data.table(Store1 = numeric(), \n",
    "                             Store2 = numeric(), corr_measure =\n",
    "  numeric())\n",
    "  storeNumbers <- unique(inputTable[, STORE_NBR])\n",
    "  \n",
    "  for (i in storeNumbers) {\n",
    "    calculatedMeasure = data.table(\"Store1\" = storeComparison,\n",
    "                                   \"Store2\" = i,\n",
    "                                   \"corr_measure\" = cor( inputTable[STORE_NBR == storeComparison,\n",
    "                                                                     eval(metricCol)], inputTable[STORE_NBR == i,\n",
    "                                                                                                eval(metricCol)]))\n",
    "    calcCorrTable <- rbind(calcCorrTable, calculatedMeasure)\n",
    "  }\n",
    "  return(calcCorrTable)\n",
    "}\n",
    "```"
   ]
  },
  {
   "cell_type": "markdown",
   "id": "d185ea41-c638-4dd4-8597-bcc71234c336",
   "metadata": {},
   "source": [
    "+ Apart from correlation, we can also calculate a standardised metric based on the\n",
    "absolute difference between the trial store's performance and each control store's\n",
    "performance.\n",
    "Let's write a function for this."
   ]
  },
  {
   "cell_type": "raw",
   "id": "a18cba25-7f77-4b19-813a-5e181bf4cfee",
   "metadata": {},
   "source": [
    "```{r Create function to calculate magnitude distance}\n",
    "#### Create a function to calculate a standardised magnitude distance for a measure,\n",
    "#### looping through each control store\n",
    "calculateMagnitudeDistance <- function(inputTable, metricCol, storeComparison) {\n",
    "calcDistTable = data.table(Store1 = numeric(), Store2 = numeric(), YEARMONTH =\n",
    "numeric(), measure = numeric())\n",
    "  storeNumbers <- unique(inputTable[, STORE_NBR])\n",
    "  for (i in storeNumbers) {\n",
    "  calculatedMeasure = data.table(\"Store1\" = storeComparison\n",
    "                                 , \"Store2\" = i\n",
    "                                 , \"YEARMONTH\" = inputTable[STORE_NBR ==\n",
    "storeComparison, YEARMONTH]\n",
    "                                 , \"measure\" = abs(inputTable[STORE_NBR ==\n",
    "storeComparison, eval(metricCol)]\n",
    "                                                   - inputTable[STORE_NBR == i,\n",
    "eval(metricCol)])\n",
    "                                  )\n",
    "    calcDistTable <- rbind(calcDistTable, calculatedMeasure)\n",
    "}\n",
    "#### Standardize the magnitude distance so that the measure ranges from 0 to 1\n",
    "  minMaxDist <- calcDistTable[, .(minDist = min(measure), maxDist = max(measure)),\n",
    "by = c(\"Store1\", \"YEARMONTH\")]\n",
    "  distTable <- merge(calcDistTable, minMaxDist, by = c(\"Store1\", \"YEARMONTH\"))\n",
    "  distTable[, magnitudeMeasure := 1 - (measure - minDist)/(maxDist - minDist)]\n",
    "  finalDistTable <- distTable[, .(mag_measure = mean(magnitudeMeasure)), by =\n",
    ".(Store1, Store2)]\n",
    "  return(finalDistTable)\n",
    "}\n",
    "```"
   ]
  },
  {
   "cell_type": "markdown",
   "id": "d65daeb1-88ea-45f2-9b34-0ce425495ce4",
   "metadata": {},
   "source": [
    "\n",
    "+ Now let's use the functions to find the control stores! We'll select control stores based on how similar monthly total sales in dollar amounts and monthly number of customers are to the trial stores. So we will need to use \n",
    "our functions to get four scores, two for each of total sales and total customers."
   ]
  },
  {
   "cell_type": "raw",
   "id": "a00c2804-5465-43dd-a8b9-3a941325b262",
   "metadata": {},
   "source": [
    "```{r Use functions to calculate metrics}\n",
    "#### Over to you! Use the function you created to calculate correlations against store 77 using total sales and number of customers.\n",
    "#### Hint: Refer back to the input names of the functions we created.\n",
    "trial_store <- 77\n",
    "corr_nSales <- calculateCorrelation(preTrialMeasures, quote(totSales),trial_store)\n",
    "corr_nSales[order(-corr_measure)]\n",
    "\n",
    "corr_nCustomers <- calculateCorrelation(preTrialMeasures, quote(nCustomers),trial_store )\n",
    "corr_nCustomers[order(-corr_measure)]\n",
    "\n",
    "#### Then, use the functions for calculating magnitude.\n",
    "magnitude_nSales <- calculateMagnitudeDistance(preTrialMeasures, \n",
    "                                               quote(totSales),\n",
    "trial_store)\n",
    "magnitude_nCustomers <- calculateMagnitudeDistance(preTrialMeasures,\n",
    "quote(nCustomers), trial_store)\n",
    "\n",
    "```"
   ]
  },
  {
   "cell_type": "markdown",
   "id": "3891b351-0774-4c7b-b379-f93a97174524",
   "metadata": {},
   "source": [
    "+ We'll need to combine the all the scores calculated using our function to create a\n",
    "composite score to rank on.\n",
    "Let's take a simple average of the correlation and magnitude scores for each\n",
    "driver. Note that if we consider it more important for the trend of the drivers to\n",
    "be similar, we can increase the weight of the correlation score \n",
    "(a simple average\n",
    "gives a weight of 0.5 to the corr_weight) or if we consider the absolute size of\n",
    "the drivers to be more important, we can lower the weight of the correlation score."
   ]
  },
  {
   "cell_type": "raw",
   "id": "b7f6d993-45fe-466f-a3f2-70fd632a2cdf",
   "metadata": {},
   "source": [
    "```{r combined scores}\n",
    "#### Over to you! Create a combined score composed of correlation and magnitude, by first merging the correlations table with the magnitude table.\n",
    "#### Hint: A simple average on the scores would be 0.5 * corr_measure + 0.5 * mag_measure\n",
    "corr_weight <- 0.5\n",
    "score_nSales <- merge(corr_nSales,magnitude_nSales , by =c(\"Store1\",\"Store2\") )[, scoreNSales := 0.5 * corr_measure + 0.5 * mag_measure]\n",
    "score_nSales[order(-scoreNSales)]\n",
    "score_nCustomers <- merge(corr_nCustomers,magnitude_nCustomers , by =c(\"Store1\",\"Store2\") )[, scoreNCust := 0.5 * corr_measure + 0.5 * mag_measure]\n",
    "score_nCustomers[order(-scoreNCust)]\n",
    "```"
   ]
  },
  {
   "cell_type": "markdown",
   "id": "1cfb1714-0c75-4699-b9ff-fa096bce14f2",
   "metadata": {},
   "source": [
    "+ Now we have a score for each of total number of sales and number of customers.\n",
    "Let's combine the two via a simple average."
   ]
  },
  {
   "cell_type": "raw",
   "id": "24371823-671b-4d83-8220-4ac0d0a60e12",
   "metadata": {},
   "source": [
    "```{r control scores}\n",
    "#### Over to you! Combine scores across the drivers by first merging our sales scores and customer scores into a single table\n",
    "score_Control <- merge(score_nSales,score_nCustomers , by =c(\"Store1\", \"Store2\") )\n",
    "score_Control[, finalControlScore := scoreNSales * 0.5 + scoreNCust * 0.5]\n",
    "\n",
    "```"
   ]
  },
  {
   "cell_type": "markdown",
   "id": "d14faf2f-e2a0-439f-b16f-8d8a86f5794a",
   "metadata": {},
   "source": [
    "+ The store with the highest score is then selected as the control store since it is\n",
    "most similar to the trial store."
   ]
  },
  {
   "cell_type": "raw",
   "id": "5616c5f0-1897-4b99-93be-573348e53369",
   "metadata": {},
   "source": [
    "```{r 77 control store}\n",
    "#### Select control stores based on the highest matching store (closest to 1 but\n",
    "#### not the store itself, i.e. the second ranked highest store)\n",
    "#### Over to you! Select the most appropriate control store for trial store 77 by finding the store with the highest final score.\n",
    "control_store <- score_Control[Store1 == trial_store, ][order(-finalControlScore)][2, Store2]\n",
    "control_store\n",
    "```"
   ]
  },
  {
   "cell_type": "markdown",
   "id": "f9eee2a2-4ce1-4609-ad1e-2fa0e76decda",
   "metadata": {},
   "source": [
    "+ Now that we have found a control store, let's check visually if the drivers are\n",
    "indeed similar in the period before the trial.\n",
    "We'll look at total sales first."
   ]
  },
  {
   "cell_type": "raw",
   "id": "1a4b6a69-4f9f-455b-a521-3a06df3e3b96",
   "metadata": {},
   "source": [
    "```{r 77 total sales}\n",
    "#### Visual checks on trends based on the drivers\n",
    "measureOverTimeSales <- measureOverTime\n",
    "pastSales <- measureOverTimeSales[, Store_type := ifelse(STORE_NBR == trial_store, \"Trial\", ifelse(STORE_NBR == control_store, \"Control\", \"Other stores\"))][, totSales := mean(totSales), by = c(\"YEARMONTH\",\"Store_type\")][, TransactionMonth := as.Date(paste(YEARMONTH %/% 100, YEARMONTH %% 100, 1, sep = \"-\"), \"%Y-%m-%d\")][YEARMONTH < 201903 , ]\n",
    "\n",
    "ggplot(pastSales, aes(TransactionMonth, totSales, color = Store_type)) +\n",
    "geom_line() +\n",
    "labs(x = \"Month of operation\", y = \"Total sales\", title = \"Total sales by month\")\n",
    "```"
   ]
  },
  {
   "cell_type": "markdown",
   "id": "e8e4fbd9-f53f-4093-b324-d31711a543aa",
   "metadata": {},
   "source": [
    "Next, number of customers."
   ]
  },
  {
   "cell_type": "raw",
   "id": "a9a19214-feea-41e5-8398-b1cbaac88b92",
   "metadata": {},
   "source": [
    "```{r 77 number of customers}\n",
    "#### Over to you! Conduct visual checks on customer count trends by comparing the trial store to the control store and other stores.\n",
    "#### Hint: Look at the previous plot.\n",
    "measureOverTimeCusts <- measureOverTime\n",
    "pastCustomers <- measureOverTimeCusts[,Store_type := ifelse(STORE_NBR == trial_store, \"Trial\",ifelse(STORE_NBR == control_store, \"Control\",\"other stores\")) ][,nCustomers := mean(nCustomers), by = c(\"YEARMONTH\",\"Store_type\")][,TransactionMonth := as.Date(paste(YEARMONTH %/%100, YEARMONTH %% 100, 1, sep = \"‐\"), \"%Y‐%m‐%d\")][YEARMONTH < 201903 ,]\n",
    "ggplot(pastCustomers, aes(x=TransactionMonth,y=nCustomers , color =Store_type)) +\n",
    "  geom_line() +\n",
    "  labs(x =\"Month of operation\" , y =\"Total number of customers\" , title =\"Total number of customers by month\" )\n",
    "```"
   ]
  },
  {
   "cell_type": "markdown",
   "id": "4580e7f4-93d7-476d-aa7f-d8c8f350fe57",
   "metadata": {},
   "source": [
    "## Assessment of trial\n",
    "The trial period goes from the start of February 2019 to April 2019. We now want to\n",
    "see if there has been an uplift in overall chip sales.\n",
    "We'll start with scaling the control store's sales to a level similar to control\n",
    "for any differences between the two stores outside of the trial period."
   ]
  },
  {
   "cell_type": "raw",
   "id": "da412a9b-bb1d-4a42-90a6-41b3784812a1",
   "metadata": {},
   "source": [
    "```{r Comparison of results during trial}\n",
    "#### Scale pre-trial control sales to match pre-trial trial store sales\n",
    "scalingFactorForControlSales <- preTrialMeasures[STORE_NBR == trial_store &\n",
    "YEARMONTH < 201902, sum(totSales)]/preTrialMeasures[STORE_NBR == control_store &\n",
    "YEARMONTH < 201902, sum(totSales)]\n",
    "#### Apply the scaling factor\n",
    "measureOverTimeSales <- measureOverTime\n",
    "scaledControlSales <- measureOverTimeSales[STORE_NBR == control_store, ][ ,\n",
    "controlSales := totSales * scalingFactorForControlSales]\n",
    "```"
   ]
  },
  {
   "cell_type": "markdown",
   "id": "3362af29-3160-4c15-b315-2c1fc9da7e4d",
   "metadata": {},
   "source": [
    "+ Now that we have comparable sales figures for the control store, we can calculate\n",
    "the percentage difference between the scaled control sales and the trial store's\n",
    "sales during the trial period."
   ]
  },
  {
   "cell_type": "raw",
   "id": "2c463dbd-72ad-49b1-be8d-282770ececf3",
   "metadata": {},
   "source": [
    "```{r percentage difference}\n",
    "#### Over to you! Calculate the percentage difference between scaled control sales and trial sales\n",
    "percentageDiff <- merge(scaledControlSales[, c(\"YEARMONTH\",\"controlSales\")],measureOverTime[STORE_NBR == trial_store, c(\"YEARMONTH\",\"totSales\")],by =\"YEARMONTH\")[, percentageDiff := abs(controlSales-totSales)/controlSales]\n",
    "```"
   ]
  },
  {
   "cell_type": "markdown",
   "id": "51cdc001-512c-4063-9749-2500b2e9ac55",
   "metadata": {},
   "source": [
    "Let's see if the difference is significant!"
   ]
  },
  {
   "cell_type": "raw",
   "id": "0323e46b-b722-4950-996b-f969c45895cd",
   "metadata": {},
   "source": [
    "```{r t-value for trial month}\n",
    "#### As our null hypothesis is that the trial period is the same as the pre-trial period, let's take the standard deviation based on the scaled percentage difference in the pre-trial period\n",
    "stdDev <- sd(percentageDiff[YEARMONTH < 201902 , percentageDiff])\n",
    "#### Note that there are 8 months in the pre-trial period\n",
    "#### hence 8 - 1 = 7 degrees of freedom\n",
    "degreesOfFreedom <- 7\n",
    "#### We will test with a null hypothesis of there being 0 difference between trial and control stores.\n",
    "#### Over to you! Calculate the t-values for the trial months. After that, find the 95th percentile of the t distribution with the appropriate degrees of freedom\n",
    "qt(0.95, df = degreesOfFreedom)\n",
    "#### to check whether the hypothesis is statistically significant.\n",
    "#### Hint: The test statistic here is (x - u)/standard deviation\n",
    "percentageDiff[, tValue := (percentageDiff - 0)/ stdDev][, TransactionMonth := as.Date(paste(YEARMONTH %/% 100, YEARMONTH %% 100, 1, sep = \"-\"),\"%Y-%m-%d\")][YEARMONTH < 201905 & YEARMONTH > 201901, .(TransactionMonth,tValue)]\n",
    "```"
   ]
  },
  {
   "cell_type": "markdown",
   "id": "03b5a7c1-7fdf-495f-81cd-1a625aaf0627",
   "metadata": {},
   "source": [
    "+ We can observe that the t-value is much larger than the 95th percentile value of the t-distribution for March and April - i.e. the increase in sales in the trial store in March and April is statistically greater than in the control store. Let's create a more visual version of this by plotting the sales of the control store, the sales of the trial stores and the 95th percentile value of sales of the control store.\n",
    "Let's create a more visual version of this by plotting the sales of the control\n",
    "store, the sales of the trial stores and the 95th percentile value of sales of the\n",
    "control store."
   ]
  },
  {
   "cell_type": "raw",
   "id": "deaefb1b-cf10-4c4e-b90c-db1fed916289",
   "metadata": {},
   "source": [
    "```{r, fig.align = \"Center\"}\n",
    "measureOverTimeSales <- measureOverTime\n",
    "#### Trial and control store total sales\n",
    "#### Over to you! Create new variables Store_type, totSales and TransactionMonth in the data table.\n",
    "pastSales <- measureOverTimeSales[, Store_type := ifelse(STORE_NBR ==trial_store, \"Trial\", ifelse(STORE_NBR == control_store, \"Control\", \"Other Store\"))\n",
    "][, totSales := mean(totSales), by = c(\"YEARMONTH\", \"Store_type\")\n",
    "][, TransactionMonth := as.Date(paste(YEARMONTH %/% 100, YEARMONTH %% 100, 1, sep = \"-\"), \"%Y-%m-%d\")\n",
    "][Store_type %in% c(\"Trial\", \"Control\"), ]\n",
    "#### Control store 95th percentile\n",
    "pastSales_Controls95 <- pastSales[Store_type == \"Control\",\n",
    "][, totSales := totSales * (1 + stdDev * 2)\n",
    "][, Store_type := \"Control 95th % confidence\n",
    "interval\"]\n",
    "#### Control store 5th percentile\n",
    "pastSales_Controls5 <- pastSales[Store_type == \"Control\",\n",
    "][, totSales := totSales * (1 - stdDev * 2)\n",
    "][, Store_type := \"Control 5th % confidence\n",
    "interval\"]\n",
    "trialAssessment <- rbind(pastSales, pastSales_Controls95, pastSales_Controls5)\n",
    "#### Plotting these in one nice graph\n",
    "ggplot(trialAssessment, aes(TransactionMonth, totSales, color = Store_type)) +\n",
    "  geom_rect(data = trialAssessment[ YEARMONTH < 201905 & YEARMONTH > 201901 ,],\n",
    "            aes(xmin = min(TransactionMonth), xmax = max(TransactionMonth), ymin =  0 , ymax = Inf, color = NULL), show.legend = FALSE) +\n",
    "  geom_line() +\n",
    "  labs(x = \"Month of operation\", y = \"Total sales\", title = \"Total sales by month\")\n",
    "```"
   ]
  },
  {
   "cell_type": "markdown",
   "id": "96ca3f54-999e-40ac-9ff1-bde04cf18466",
   "metadata": {},
   "source": [
    "+ The results show that the trial in store 77 is significantly different to its\n",
    "control store in the trial period as the trial store performance lies outside the\n",
    "5% to 95% confidence interval of the control store in two of the three trial\n",
    "months.\n",
    "Let's have a look at assessing this for number of customers as well."
   ]
  },
  {
   "cell_type": "raw",
   "id": "1a465685-a792-4cd9-9af5-a61ec184f4fe",
   "metadata": {},
   "source": [
    "```{r }\n",
    "#### This would be a repeat of the steps before for total sales\n",
    "#### Scale pre-trial control customers to match pre-trial trial store customers\n",
    "#### Over to you! Compute a scaling factor to align control store customer counts to our trial store.\n",
    "#### Then, apply the scaling factor to control store customer counts.\n",
    "#### Finally, calculate the percentage difference between scaled control store customers and trial customers.\n",
    "scalingFactorForControlCust <- preTrialMeasures[STORE_NBR == trial_store & YEARMONTH < 201902, sum(nCustomers)]/preTrialMeasures[STORE_NBR == control_store& YEARMONTH < 201902, sum(nCustomers)]\n",
    "measureOverTimeCusts <- measureOverTime\n",
    "scaledControlCustomers <- measureOverTimeCusts[STORE_NBR == control_store\n",
    "][, controlCustomers := nCustomers * scalingFactorForControlCust\n",
    "][, Store_type := ifelse(STORE_NBR == trial_store, \"Trial\", ifelse(STORE_NBR == control_store, \"Control\", \"Other Store\"))\n",
    "]\n",
    "percentageDiff <- merge(scaledControlCustomers[, c(\"YEARMONTH\", \"controlCustomers\")], measureOverTimeCusts[STORE_NBR == trial_store, c(\"YEARMONTH\", \"nCustomers\")], by = \"YEARMONTH\")[, percentageDiff := abs(controlCustomers - nCustomers)/ controlCustomers]\n",
    "```"
   ]
  },
  {
   "cell_type": "markdown",
   "id": "72e01dfa-c119-40cf-aba4-eeb527c4baa2",
   "metadata": {},
   "source": [
    "Let's again see if the difference is significant visually!"
   ]
  },
  {
   "cell_type": "raw",
   "id": "c7807404-43f5-4c9d-b59d-61e42870ec68",
   "metadata": {},
   "source": [
    "```{r , fig.align = \"Center\"}\n",
    "#### As our null hypothesis is that the trial period is the same as the pre-trial period, let's take the standard deviation based on the scaled percentage difference in the pre-trial period\n",
    "stdDev <- sd(percentageDiff[YEARMONTH < 201902 , percentageDiff])\n",
    "degreesOfFreedom <- 7\n",
    "#### Trial and control store number of customers\n",
    "pastCustomers <- measureOverTimeCusts[, Store_type := ifelse(STORE_NBR == trial_store, \"Trial\", ifelse(STORE_NBR == control_store, \"Control\", \"Other Store\"))][, nCustomers := mean(nCustomers), by =\n",
    "c(\"YEARMONTH\", \"Store_type\")][, TransactionMonth := as.Date(paste(YEARMONTH %/% 100, YEARMONTH%%100,1, sep = \"-\"),\"%Y-%m-%d\")][Store_type %in% c(\"Trial\", \"Control\"), ]\n",
    "#### Control store 95th percentile\n",
    "pastCustomers_Controls95 <- pastCustomers[Store_type == \"Control\",][, nCustomers := nCustomers * (1 + stdDev * 2)][, Store_type := \"Control 95th % confidence interval\"]\n",
    "#### Control store 5th percentile\n",
    "pastCustomers_Controls5 <- pastCustomers[Store_type == \"Control\", ][, nCustomers := nCustomers * (1 - stdDev * 2)][, Store_type := \"Control 5th % confidence interval\"]\n",
    "trialAssessment <- rbind(pastCustomers, pastCustomers_Controls95,\n",
    "pastCustomers_Controls5)\n",
    "#### Over to you! Plot everything into one nice graph.\n",
    "#### Hint: geom_rect creates a rectangle in the plot. Use this to highlight the trial period in our graph.\n",
    "ggplot(trialAssessment, aes(TransactionMonth,nCustomers, color = Store_type)) +\n",
    "  geom_rect(data =trialAssessment[YEARMONTH < 201905 & YEARMONTH > 201901,] , aes(xmin =min(TransactionMonth) , xmax =max(TransactionMonth) , ymin =0 , ymax =Inf , color =NULL ),show.legend = FALSE) +\n",
    "  geom_line() +\n",
    "  labs(x = \"Month of operation\", y = \"Number of Customers\", title = \"Number of customer per month\")\n",
    "```"
   ]
  },
  {
   "cell_type": "markdown",
   "id": "a13b14ff-7fcb-4237-a61e-8b8e998f47cf",
   "metadata": {},
   "source": [
    "+ Let's repeat finding the control store and assessing the impact of the trial for\n",
    "each of the other two trial stores."
   ]
  },
  {
   "cell_type": "markdown",
   "id": "a2263753-3532-4a53-99d0-da2137edf709",
   "metadata": {},
   "source": [
    "## Trial store 86"
   ]
  },
  {
   "cell_type": "raw",
   "id": "66f990e0-a1ca-4cba-9a43-d9e1d41d5b91",
   "metadata": {},
   "source": [
    "```{r}\n",
    "#### Over to you! Calculate the metrics below as we did for the first trial store.\n",
    "measureOverTime <- data[, .(totSales = sum(TOT_SALES),\n",
    "                            nCustomers = uniqueN(LYLTY_CARD_NBR),\n",
    "                            nTxnPerCust = uniqueN(TXN_ID)/uniqueN(LYLTY_CARD_NBR),\n",
    "                            nChipsPerTxn = sum(PROD_QTY)/ uniqueN(TXN_ID),\n",
    "                            avgPricePerUnit =sum(TOT_SALES)/ sum(PROD_QTY)), \n",
    "                        by = c(\"YEARMONTH\", \"STORE_NBR\")][\n",
    "                          order(YEARMONTH,STORE_NBR )]\n",
    "#### Over to you! Use the functions we created earlier to calculate correlations and magnitude for each potential control store\n",
    "trial_store <- 86\n",
    "corr_nSales <- calculateCorrelation(preTrialMeasures, quote(totSales), trial_store)\n",
    "corr_nCustomers <- calculateCorrelation(preTrialMeasures, quote(nCustomers), trial_store)\n",
    "magnitude_nSales <-calculateMagnitudeDistance(preTrialMeasures, quote(totSales), trial_store)\n",
    "magnitude_nCustomers <- calculateMagnitudeDistance(preTrialMeasures, quote(nCustomers), trial_store)\n",
    "#### Now, create a combined score composed of correlation and magnitude\n",
    "corr_weight <- 0.5\n",
    "score_nSales <-merge(corr_nSales, magnitude_nSales, by = c(\"Store1\", \"Store2\"))[, scoreNSales := corr_measure * 0.5 + mag_measure *0.5]\n",
    "score_nCustomers <- merge(corr_nCustomers, magnitude_nCustomers, by = c(\"Store1\", \"Store2\"))[,scoreNCustomers := corr_measure * 0.5 + mag_measure * 0.5]\n",
    "#### Finally, combine scores across the drivers using a simple average.\n",
    "score_Control <- merge(score_nSales, score_nCustomers, by = c(\"Store1\",\"Store2\"))\n",
    "score_Control[, finalControlScore := scoreNSales * 0.5 + scoreNCustomers * 0.5]\n",
    "#### Select control stores based on the highest matching store\n",
    "#### (closest to 1 but not the store itself, i.e. the second ranked highest store)\n",
    "#### Select control store for trial store 86\n",
    "control_store <- score_Control[Store1 == trial_store,\n",
    "][order(-finalControlScore)][2, Store2]\n",
    "control_store\n",
    "```"
   ]
  },
  {
   "cell_type": "markdown",
   "id": "88a59807-0d41-4902-bc85-d63d9ff2a52e",
   "metadata": {},
   "source": [
    "+ Looks like store 155 will be a control store for trial store 86.\n",
    "Again, let's check visually if the drivers are indeed similar in the period before\n",
    "the trial.\n",
    "We'll look at total sales first."
   ]
  },
  {
   "cell_type": "raw",
   "id": "dc63aa82-462a-4462-9f31-498b117fe86d",
   "metadata": {},
   "source": [
    "```{r}\n",
    "#### Over to you! Conduct visual checks on trends based on the drivers\n",
    "measureOverTimeSales <- measureOverTime\n",
    "pastSales <- measureOverTimeSales[, Store_type := ifelse(STORE_NBR == trial_store, \"Trial\", ifelse(STORE_NBR == control_store, \"Control\", \"Other Store\"))\n",
    "][, totSales := mean(totSales), by = c(\"YEARMONTH\", \"Store_type\") \n",
    "][, TransactionMonth := as.Date(paste(YEARMONTH %/% 100, YEARMONTH %% 100, 1, sep = \"-\"),\"%Y-%m-%d\")\n",
    "][YEARMONTH < 201903 , ]\n",
    "\n",
    "ggplot(pastSales, aes(TransactionMonth, totSales, color = Store_type)) +\n",
    "  geom_line() +\n",
    "  labs(x = \"Month of opertaion\", y= \"Total sales\", title = \"Total Sales over month\")\n",
    "```"
   ]
  },
  {
   "cell_type": "markdown",
   "id": "261d0a79-0322-49e4-a29c-8960831e1ddf",
   "metadata": {},
   "source": [
    "Great, sales are trending in a similar way.\n",
    "Next, number of customers."
   ]
  },
  {
   "cell_type": "raw",
   "id": "bdfcd3f8-4f7b-40a4-a239-a977da4189be",
   "metadata": {},
   "source": [
    "```{r}\n",
    "#### Over to you again! Conduct visual checks on trends based on the drivers\n",
    "measureOverTimeCusts <- measureOverTime\n",
    "pastCustomers <- measureOverTimeCusts[, Store_type := ifelse(STORE_NBR == trial_store, \"Trial\", ifelse(STORE_NBR == control_store, \"Control\", \"Other Store\"))\n",
    "][, numberCustomers := mean(nCustomers), by = c(\"YEARMONTH\", \"Store_type\")\n",
    "][, TransactionMonth := as.Date(paste(YEARMONTH %/% 100, YEARMONTH %% 100, 1, sep = \"-\"),\"%Y-%m-%d\")\n",
    "][YEARMONTH < 201903 , ]\n",
    "ggplot(pastCustomers, aes(TransactionMonth, numberCustomers, color = Store_type)) +\n",
    "  geom_line() +\n",
    "  labs(x =\"Month of operation\", y = \"Number of customers\", title = \"Number of customer over month\")\n",
    "```"
   ]
  },
  {
   "cell_type": "markdown",
   "id": "aeef1fa3-c674-4ae4-b0ee-cac6e3e451e2",
   "metadata": {},
   "source": [
    "Good, the trend in number of customers is also similar.\n",
    "Let's now assess the impact of the trial on sales."
   ]
  },
  {
   "cell_type": "raw",
   "id": "1ae7a07b-c7a6-4e27-9fed-8b41da6e465c",
   "metadata": {},
   "source": [
    "```{r, fig.align = \"Center\"}\n",
    "#### Scale pre-trial control sales to match pre-trial trial store sales\n",
    "scalingFactorForControlSales <- preTrialMeasures[STORE_NBR == trial_store &\n",
    "YEARMONTH < 201902, sum(totSales)]/preTrialMeasures[STORE_NBR == control_store &\n",
    "YEARMONTH < 201902, sum(totSales)]\n",
    "#### Apply the scaling factor\n",
    "measureOverTimeSales <- measureOverTime\n",
    "scaledControlSales <- measureOverTimeSales[STORE_NBR == control_store, ][ ,\n",
    "controlSales := totSales * scalingFactorForControlSales]\n",
    "#### Over to you! Calculate the percentage difference between scaled control sales and trial sales\n",
    "#### Hint: When calculating percentage difference, remember to use absolute difference\n",
    "percentageDiff <- merge( scaledControlSales[, c(\"controlSales\", \"YEARMONTH\")],measureOverTimeSales[, c(\"totSales\", \"YEARMONTH\")] ,\n",
    "by = \"YEARMONTH\"\n",
    ")[, percentageDiff := abs(controlSales - totSales)/ controlSales]\n",
    "#### As our null hypothesis is that the trial period is the same as the pre-trial period, let's take the standard deviation based on the scaled percentage difference in the pre-trial period\n",
    "#### Over to you! Calculate the standard deviation of percentage differences during the pre-trial period\n",
    "stdDev <- sd(percentageDiff[YEARMONTH < 201902,percentageDiff])\n",
    "degreesOfFreedom <- 7\n",
    "#### Trial and control store total sales\n",
    "#### Over to you! Create a table with sales by store type and month.\n",
    "#### Hint: We only need data for the trial and control store.\n",
    "measureOverTimeSales <- measureOverTime\n",
    "pastSales <- measureOverTimeSales[, Store_type := ifelse(STORE_NBR == trial_store, \"Trial\", ifelse(STORE_NBR == control_store, \"Control\", \"Other Store\"))\n",
    "][, totSales := mean(totSales), by = c(\"YEARMONTH\", \"Store_type\")\n",
    "][, TransactionMonth := as.Date(paste(YEARMONTH %/% 100, YEARMONTH %% 100, 1, sep = \"-\"), \"%Y-%m-%d\")\n",
    "][Store_type %in% c(\"Trial\", \"Control\"),]\n",
    "#### Over to you! Calculate the 5th and 95th percentile for control store sales.\n",
    "#### Hint: The 5th and 95th percentiles can be approximated by using two standard deviations away from the mean.\n",
    "#### Hint2: Recall that the variable stdDev earlier calculates standard deviation in percentages, and not dollar sales.\n",
    "pastSales_Controls95 <- pastSales[Store_type == \"Control\",\n",
    "][, totSales := totSales * (1 + stdDev * 2)][, Store_type := \"Control 95th % confidence interval\"]\n",
    "pastSales_Controls5 <- pastSales[Store_type == \"Control\",\n",
    "][, totSales := totSales * (1 - stdDev * 2)\n",
    "][, Store_type := \"Control 5th % confidence interval\"]\n",
    "#### Then, create a combined table with columns from pastSales, pastSales_Controls95 and pastSales_Controls5\n",
    "trialAssessment <- rbind(pastSales, pastSales_Controls95, pastSales_Controls5)\n",
    "#### Plotting these in one nice graph\n",
    "ggplot(trialAssessment, aes(TransactionMonth, totSales, color = Store_type)) +\n",
    "geom_rect(data = trialAssessment[ YEARMONTH < 201905 & YEARMONTH > 201901 ,],\n",
    "aes(xmin = min(TransactionMonth), xmax = max(TransactionMonth), ymin = 0 , ymax =\n",
    "Inf, color = NULL), show.legend = FALSE) +\n",
    "geom_line(aes(linetype = Store_type)) +\n",
    "labs(x = \"Month of operation\", y = \"Total sales\", title = \"Total sales by month\")\n",
    "```"
   ]
  },
  {
   "cell_type": "markdown",
   "id": "1ae384d9-bb0b-4306-b46d-e47b85a02348",
   "metadata": {},
   "source": [
    "+ The results show that the trial in store 86 is not significantly different to its\n",
    "control store in the trial period as the trial store performance lies inside the 5% to 95% confidence interval of the control store in two of the three trial months.\n",
    "Let's have a look at assessing this for the number of customers as well."
   ]
  },
  {
   "cell_type": "raw",
   "id": "0beed82e-9f5b-4d49-b596-074cd1cd12e0",
   "metadata": {},
   "source": [
    "```{r , fig.align = \"Center\"}\n",
    "#### This would be a repeat of the steps before for total sales\n",
    "#### Scale pre-trial control customers to match pre-trial trial store customers\n",
    "scalingFactorForControlCust <- preTrialMeasures[STORE_NBR == trial_store &\n",
    "YEARMONTH < 201902, sum(nCustomers)]/preTrialMeasures[STORE_NBR == control_store &\n",
    "YEARMONTH < 201902, sum(nCustomers)]\n",
    "#### Apply the scaling factor\n",
    "measureOverTimeCusts <- measureOverTime\n",
    "scaledControlCustomers <- measureOverTimeCusts[STORE_NBR == control_store,\n",
    "][ , controlCustomers := nCustomers\n",
    "* scalingFactorForControlCust\n",
    "][, Store_type := ifelse(STORE_NBR\n",
    "== trial_store, \"Trial\",\n",
    "ifelse(STORE_NBR == control_store,\n",
    "\"Control\", \"Other stores\"))\n",
    "]#### Calculate the percentage difference between scaled control sales and trial sales\n",
    "percentageDiff <- merge(scaledControlCustomers[, c(\"YEARMONTH\",\n",
    "\"controlCustomers\")],\n",
    "measureOverTime[STORE_NBR == trial_store, c(\"nCustomers\",\n",
    "\"YEARMONTH\")],\n",
    "by = \"YEARMONTH\"\n",
    ")[, percentageDiff := abs(controlCustomers-nCustomers)/controlCustomers]\n",
    "#### As our null hypothesis is that the trial period is the same as the pre-trial period, let's take the standard deviation based on the scaled percentage difference in the pre-trial period\n",
    "\n",
    "stdDev <- sd(percentageDiff[YEARMONTH < 201902 , percentageDiff])\n",
    "degreesOfFreedom <- 7\n",
    "#### Trial and control store number of customers\n",
    "pastCustomers <- measureOverTimeCusts[, nCusts := mean(nCustomers), by =\n",
    "c(\"YEARMONTH\", \"Store_type\")\n",
    "][Store_type %in% c(\"Trial\", \"Control\"), ]\n",
    "#### Control store 95th percentile\n",
    "pastCustomers_Controls95 <- pastCustomers[Store_type == \"Control\",\n",
    "][, nCusts := nCusts * (1 + stdDev * 2)\n",
    "][, Store_type := \"Control 95th % confidence\n",
    "interval\"]\n",
    "#### Control store 5th percentile\n",
    "pastCustomers_Controls5 <- pastCustomers[Store_type == \"Control\",\n",
    "][, nCusts := nCusts * (1 - stdDev * 2)\n",
    "][, Store_type := \"Control 5th % confidence\n",
    "interval\"]\n",
    "trialAssessment <- rbind(pastCustomers, pastCustomers_Controls95,\n",
    "pastCustomers_Controls5)\n",
    "#### Plotting these in one nice graph\n",
    "ggplot(trialAssessment, aes(TransactionMonth, nCusts, color = Store_type)) +\n",
    "geom_rect(data = trialAssessment[ YEARMONTH < 201905 & YEARMONTH > 201901 ,],\n",
    "aes(xmin = min(TransactionMonth), xmax = max(TransactionMonth), ymin = 0 , ymax =\n",
    "Inf, color = NULL), show.legend = FALSE) +\n",
    "geom_line() +\n",
    "labs(x = \"Month of operation\", y = \"Total number of customers\", title = \"Total\n",
    "number of customers by month\")\n",
    "```"
   ]
  },
  {
   "cell_type": "markdown",
   "id": "7fcb0409-5814-472f-884a-a3ae6135e412",
   "metadata": {},
   "source": [
    "+ It looks like the number of customers is significantly higher in all of the three\n",
    "months. This seems to suggest that the trial had a significant impact on increasing\n",
    "the number of customers in trial store 86 but as we saw, sales were not\n",
    "significantly higher. We should check with the Category Manager if there were\n",
    "special deals in the trial store that were may have resulted in lower prices,\n",
    "impacting the results."
   ]
  },
  {
   "cell_type": "markdown",
   "id": "351c9db0-b4b9-4bdb-ade7-40c956ca2d3f",
   "metadata": {},
   "source": [
    "## Trial store 88"
   ]
  },
  {
   "cell_type": "raw",
   "id": "30363d09-dd0b-44bd-8756-7ee44899494b",
   "metadata": {},
   "source": [
    "```{r}\n",
    "#### All over to you now! Your manager has left for a conference call, so you'll be on your own this time.\n",
    "#### Conduct the analysis on trial store 88.\n",
    "measureOverTime <- data[, .(totSales = sum(TOT_SALES),\n",
    "                            nCustomers = uniqueN(LYLTY_CARD_NBR),\n",
    "                            nTxnPerCust = uniqueN(TXN_ID)/uniqueN(LYLTY_CARD_NBR),\n",
    "                            nChipesPerTxn = sum(PROD_QTY)/uniqueN(TXN_ID),\n",
    "                            avgPricePerUnit = sum(TOT_SALES)/sum(PROD_QTY)),\n",
    "                        by = c(\"STORE_NBR\", \"YEARMONTH\")][order(STORE_NBR,\n",
    "YEARMONTH)]\n",
    "#### Use the functions\n",
    "#### Use the functions from earlier to calculate the correlation of the sales and number of customers of each potential control store to the trial store\n",
    "trial_store <- 88\n",
    "corr_nSales <- calculateCorrelation(preTrialMeasures, quote(totSales), trial_store)\n",
    "corr_nCustomers <-calculateCorrelation(preTrialMeasures, quote(nCustomers), trial_store)\n",
    "#### Use the functions from earlier to calculate the magnitude distance of the sales and number of customers of each potential control store to the trial store\n",
    "magnitude_nSales <- calculateMagnitudeDistance(preTrialMeasures, quote(totSales), trial_store)\n",
    "magnitude_nCustomers <-calculateMagnitudeDistance(preTrialMeasures, quote(nCustomers), trial_store)\n",
    "#### Create a combined score composed of correlation and magnitude by merging the correlations table and the magnitudes table, for each driver.\n",
    "corr_weight <- 0.5\n",
    "score_nSales <- merge(corr_nSales, magnitude_nSales, by = c(\"Store1\", \"Store2\"))[, scoreNSales := corr_measure * 0.5 + mag_measure *0.5]\n",
    "score_nCustomers <- merge(corr_nCustomers, magnitude_nCustomers, by = c(\"Store1\", \"Store2\"))[, scoreNCustomers := corr_measure * 0.5 + mag_measure * 0.5]\n",
    "#### Combine scores across the drivers by merging sales scores and customer scores, and compute a final combined score.\n",
    "score_Control <- merge(score_nSales, score_nCustomers, by = c(\"Store1\", \"Store2\"))\n",
    "score_Control[, finalControlScore := scoreNSales * 2 + scoreNCustomers * 2]\n",
    "#### Select control stores based on the highest matching store\n",
    "#### (closest to 1 but not the store itself, i.e. the second ranked highest store)\n",
    "#### Select control store for trial store 88\n",
    "control_store <- score_Control[Store1 == trial_store][order(-finalControlScore)][2, Store2]\n",
    "control_store\n",
    "```"
   ]
  },
  {
   "cell_type": "markdown",
   "id": "5902a24f-df85-4d46-82da-18f2964f12a2",
   "metadata": {},
   "source": [
    "+ We've now found store 237 to be a suitable control store for trial store 88.\n",
    "Again, let's check visually if the drivers are indeed similar in the period before\n",
    "the trial.\n",
    "We'll look at total sales first."
   ]
  },
  {
   "cell_type": "raw",
   "id": "2448c712-a45e-473b-b1ad-614c70f6f0b3",
   "metadata": {},
   "source": [
    "```{r}\n",
    "#### Visual checks on trends based on the drivers\n",
    "#### For the period before the trial, create a graph with total sales of the trial store for each month, compared to the control store and other stores.\n",
    "measureOverTimeSales <- measureOverTime\n",
    "pastSales <-measureOverTimeSales[, Store_type := ifelse(STORE_NBR == trial_store, \"Trial\", ifelse(STORE_NBR == control_store, \"Control\", \"Other Store\"))][, totSales := mean(totSales), by = c(\"YEARMONTH\", \"Store_type\")][, TransactionMonth := as.Date(paste(YEARMONTH %/% 100, YEARMONTH %% 100, 1, sep = \"-\"), \"%Y-%m-%d\")][YEARMONTH < 201903,]\n",
    "ggplot(pastSales, aes(TransactionMonth, totSales, color = Store_type)) +\n",
    "  geom_line() +\n",
    "  labs(x =\"Month of operation\", y =\"Total sales\", title = \"Total sales per month\")\n",
    "```"
   ]
  },
  {
   "cell_type": "markdown",
   "id": "6f01fdeb-0e1a-4fcb-b9e1-f7c40ce5a13d",
   "metadata": {},
   "source": [
    "Great, the trial and control stores have similar total sales.\n",
    "Next, number of customers."
   ]
  },
  {
   "cell_type": "raw",
   "id": "df252f3c-a95e-4c65-8809-fcb1b7613320",
   "metadata": {},
   "source": [
    "```{r}\n",
    "#### Visual checks on trends based on the drivers\n",
    "#### For the period before the trial, create a graph with customer counts of the trial store for each month, compared to the control store and other stores.\n",
    "measureOverTimeCusts <- measureOverTime\n",
    "\n",
    "pastCustomers <- measureOverTimeCusts[, Store_type := ifelse(STORE_NBR == trial_store,\"Trial\", ifelse(STORE_NBR == control_store, \"Control\", \"Other store\"))][, nCustomers := mean(nCustomers), by = c(\"YEARMONTH\", \"Store_type\")][, TransactionMonth := as.Date(paste(YEARMONTH %/% 100, YEARMONTH %% 100, 1, sep = \"-\"), \"%Y-%m-%d\")][YEARMONTH < 201903,]\n",
    "\n",
    "ggplot(pastCustomers, aes(TransactionMonth, nCustomers, color = Store_type)) +\n",
    "  geom_line() +\n",
    "  labs(x =\"Month of operation\", y = \"Number of Customers\", title =\"Number of Customer over month\")\n",
    "```"
   ]
  },
  {
   "cell_type": "markdown",
   "id": "769af5aa-c0c7-41cb-b13b-1fac5a7fb0d4",
   "metadata": {},
   "source": [
    "Total number of customers of the control and trial stores are also similar.\n",
    "Let's now assess the impact of the trial on sales."
   ]
  },
  {
   "cell_type": "raw",
   "id": "c5a117d0-b251-4ade-b9b3-e1106caefc7a",
   "metadata": {},
   "source": [
    "```{r, fig.align = \"Center\"}\n",
    "#### Scale pre-trial control store sales to match pre-trial trial store sales\n",
    "scalingFactorForControlSales <- preTrialMeasures[STORE_NBR == trial_store & YEARMONTH < 201902, sum(totSales)]/preTrialMeasures[STORE_NBR == control_store & YEARMONTH < 201902, sum(totSales)]\n",
    "#### Apply the scaling factor\n",
    "measureOverTimeSales <- measureOverTime\n",
    "scaledControlSales <- measureOverTimeSales[STORE_NBR == control_store,][, controlSales := scalingFactorForControlSales * totSales]\n",
    "#### Calculate the absolute percentage difference between scaled control sales and trial sales\n",
    "percentageDiff <- merge(scaledControlSales[, c(\"YEARMONTH\", \"controlSales\")], measureOverTimeSales[STORE_NBR == trial_store, c(\"YEARMONTH\", \"totSales\")], by = \"YEARMONTH\")[, percentageDiff := abs(controlSales - totSales)/ controlSales]\n",
    "#### As our null hypothesis is that the trial period is the same as the pre-trial period, let's take the standard deviation based on the scaled percentage difference in the pre-trial period\n",
    "stdDev <- sd(percentageDiff[YEARMONTH < 201902, percentageDiff])\n",
    "degreesOfFreedom <- 7\n",
    "#### Trial and control store total sales\n",
    "\n",
    "measureOverTimeSales <- measureOverTime\n",
    "pastSales <- measureOverTimeSales[, Store_type := ifelse(STORE_NBR == trial_store, \"Trial\", ifelse(STORE_NBR == control_store, \"Control\", \"Other Store\"))][, totSales := mean(totSales), by = c(\"YEARMONTH\", \"Store_type\")][, TransactionMonth := as.Date(paste(YEARMONTH %/% 100, YEARMONTH %% 100, 1, sep = \"-\"), \"%Y-%m-%d\")][ Store_type %in% c(\"Control\", \"Trial\")]\n",
    "\n",
    "#### Control store 95th percentile\n",
    "pastSales_Controls95 <- pastSales[Store_type == \"Control\"][, totSales := totSales * (1 + stdDev * 2)][, Store_type := \"Control 95th % confidence interval\"]\n",
    "#### Control store 5th percentile\n",
    "pastSales_Controls5 <- pastSales[Store_type == \"Control\"][, totSales := totSales * (1 - stdDev * 2)][, Store_type := \"Control 5th % confidence interval\"]\n",
    "#### Combine the tables pastSales, pastSales_Controls95, pastSales_Controls5\n",
    "trialAssessment <- rbind(pastSales, pastSales_Controls95, pastSales_Controls5)\n",
    "#### Plot these in one nice graph\n",
    "ggplot(trialAssessment, aes(TransactionMonth, totSales, color = Store_type)) +\n",
    "  geom_rect(data = trialAssessment[YEARMONTH <201905 & YEARMONTH > 201901,], aes(xmin = min(TransactionMonth), xmax = max(TransactionMonth), ymin = 0, ymax = Inf, color = NULL), show.legend = F) +\n",
    "  geom_line() +\n",
    "  labs(x =\"Month of operation\", y =\"Total sales\", title = \"Total sales over month\")\n",
    "```"
   ]
  },
  {
   "cell_type": "markdown",
   "id": "e94dd898-9f5e-42c7-a1f3-cd145ae5a153",
   "metadata": {},
   "source": [
    "+ The results show that the trial in store 88 is significantly different to its\n",
    "control store in the trial period as the trial store performance lies outside of\n",
    "the 5% to 95% confidence interval of the control store in two of the three trial\n",
    "months.\n",
    "Let's have a look at assessing this for number of customers as well."
   ]
  },
  {
   "cell_type": "raw",
   "id": "31c17e0c-dc61-44d8-a721-a250d890f33e",
   "metadata": {},
   "source": [
    "```{r , fig.align = \"Center\"}\n",
    "#### This would be a repeat of the steps before for total sales\n",
    "#### Scale pre-trial control store customers to match pre-trial trial store customers\n",
    "scalingFactorForControlCust <- preTrialMeasures[STORE_NBR == trial_store & YEARMONTH < 201902, sum(nCustomers)]/preTrialMeasures[STORE_NBR == control_store &YEARMONTH < 201902, sum(nCustomers)]\n",
    "#### Apply the scaling factor\n",
    "measureOverTimeCusts <- measureOverTime\n",
    "scaledControlCustomers <- measureOverTimeCusts[STORE_NBR == control_store,][, controlCustomers := nCustomers * scalingFactorForControlCust]\n",
    "#### Calculate the absolute percentage difference between scaled control sales and trial sales\n",
    "percentageDiff <- merge(scaledControlCustomers[, c (\"YEARMONTH\", \"controlCustomers\")], measureOverTimeCusts[STORE_NBR == trial_store, c(\"YEARMONTH\", \"nCustomers\")])[, percentageDiff := abs(controlCustomers - nCustomers)/ controlCustomers]\n",
    "#### As our null hypothesis is that the trial period is the same as the pre-trial period, let's take the standard deviation based on the scaled percentage difference in the pre-trial period\n",
    "stdDev <- sd(percentageDiff[YEARMONTH < 201902, percentageDiff])\n",
    "degreesOfFreedom <- 7 \n",
    "# note that there are 8 months in the pre-trial period hence 8 - 1 = 7 degrees of freedom\n",
    "#### Trial and control store number of customers\n",
    "pastCustomers <- measureOverTimeCusts[, Store_type := ifelse(STORE_NBR == trial_store, \"Trial\", ifelse(STORE_NBR == control_store, \"Control\", \"Other Store\"))][, nCustomers := mean(nCustomers), by = c(\"YEARMONTH\", \"Store_type\")][, TransactionMonth := as.Date(paste(YEARMONTH %/% 100, YEARMONTH %% 100, 1, sep = \"-\"), \"%Y-%m-%d\")][Store_type %in% c(\"Control\", \"Trial\")]\n",
    "#### Control store 95th percentile\n",
    "pastCustomers_Controls95 <-pastCustomers[Store_type == \"Control\"][, nCustomers := nCustomers * (1 + stdDev * 2)][, Store_type := \"Control 95th % confidence interval\"]\n",
    "#### Control store 5th percentile\n",
    "pastCustomers_Controls5 <- pastCustomers[Store_type == \"Control\"][, nCustomers := nCustomers * (1 - stdDev * 2)][, Store_type := \"Control 5th % confidence interval\"]\n",
    "#### Combine the tables pastSales, pastSales_Controls95, pastSales_Controls5\n",
    "trialAssessment <- rbind(pastCustomers, pastCustomers_Controls95, pastCustomers_Controls5)\n",
    "#### Plotting these in one nice graph\n",
    "ggplot(trialAssessment, aes(TransactionMonth, nCustomers, color = Store_type)) +\n",
    "  geom_rect(data = trialAssessment[YEARMONTH < 201905 & YEARMONTH >201901,], aes( xmin = min(TransactionMonth), xmax = max(TransactionMonth), ymin = 0, ymax = Inf, color = NULL), show.legend = F) +\n",
    "  geom_line() +\n",
    "  labs(x = \"Month of operation\", y = \"Number of Customers\", title = \"Number of Customers over month\")\n",
    "```"
   ]
  },
  {
   "cell_type": "markdown",
   "id": "c1ed9002-8862-42b6-aa48-eb2440a3db48",
   "metadata": {},
   "source": [
    "+ Total number of customers in the trial period for the trial store is significantly\n",
    "higher than the control store for two out of three months, which indicates a\n",
    "positive trial effect."
   ]
  },
  {
   "cell_type": "markdown",
   "id": "07b5c197-c6e6-4525-81b3-0b80df5dc25c",
   "metadata": {},
   "source": [
    "## **Conclusion**\n",
    "+ Good work! We've found control stores 233, 155, 237 for trial stores 77, 86 and 88\n",
    "respectively.\n",
    "+ The results for trial stores 77 and 88 during the trial period show a significant\n",
    "difference in at least two of the three trial months but this is not the case for\n",
    "trial store 86. We can check with the client if the implementation of the trial was\n",
    "different in trial store 86 but overall, the trial shows a significant increase in\n",
    "sales.\n",
    "+ Now that we have finished our analysis, we can prepare our presentation to\n",
    "the Category Manager."
   ]
  },
  {
   "cell_type": "code",
   "execution_count": null,
   "id": "b6756652-d5e7-4676-b42c-73121a172795",
   "metadata": {},
   "outputs": [],
   "source": []
  }
 ],
 "metadata": {
  "kernelspec": {
   "display_name": "Python 3 (ipykernel)",
   "language": "python",
   "name": "python3"
  },
  "language_info": {
   "codemirror_mode": {
    "name": "ipython",
    "version": 3
   },
   "file_extension": ".py",
   "mimetype": "text/x-python",
   "name": "python",
   "nbconvert_exporter": "python",
   "pygments_lexer": "ipython3",
   "version": "3.11.7"
  }
 },
 "nbformat": 4,
 "nbformat_minor": 5
}
